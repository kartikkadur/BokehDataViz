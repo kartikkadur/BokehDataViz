{
 "cells": [
  {
   "cell_type": "markdown",
   "metadata": {},
   "source": [
    "**Course**: Data Visualization,   **Name**: Kartik Kadur,   **Date**: 12.11.2019"
   ]
  },
  {
   "cell_type": "markdown",
   "metadata": {},
   "source": [
    "# Comments regarding assignments\n",
    "\n",
    "Each assignment consists of **two pieces**:\n",
    "1. A jupyter notebook with practical exercises.\n",
    "2. An OLAT questionaire that contains questions regarding the material of the lecture and the notebook. \n",
    "\n",
    "Modalities for credit points:\n",
    "- To qualify for the exam (Prüfungsvoraussetzung), you have to obtain 80% of points in each assignment.\n",
    "- Points are only given through the questionaire in OLAT. Many questions will be related to material you learned or practiced in the notebook.\n",
    "- While questionaires are open, you can retake them until you have enough credit points to pass.\n",
    "\n",
    "**Submission instructions**:\n",
    "- Finish the practical exercises in the notebook.\n",
    "- Fill in the OLAT questionaire (which includes the submission of an HTML export of the notebook)\n",
    "- No group work allowed! You may discuss strategies and solutions, but every student has to do their own implementation."
   ]
  },
  {
   "cell_type": "markdown",
   "metadata": {},
   "source": [
    "# Assignment 1 - Visualizing Data\n",
    "\n",
    "The **goals** of the first assignment are:\n",
    "- Get familiar with python programming in the jupyter notebook;\n",
    "- Be able to create a data visualization using bokeh;\n",
    "- Recreate an existing visualization and develop an eye for key features;\n",
    "- Start critical thinking about design options;\n",
    "\n",
    "\n",
    "\n",
    "To achieve these goals, your task is to create a visualization of the weather in Kaiserslautern in 2018. The visualization needs to be similar to the following chart from the New York Times (Jan. 11, 1981, p. 32; Tufte (1983), p. 30) and needs to be implemented in bokeh+pandas:\n",
    "\n",
    "![New York city's weather for 1980 from the New York Times](http://euclid.psych.yorku.ca/SCS/Gallery/images/NYweather.jpg)"
   ]
  },
  {
   "cell_type": "markdown",
   "metadata": {},
   "source": [
    "## 1. Starter Code - Minimal working example\n",
    "\n",
    "The following pieces of code load the data for this assignment and generate a minimal chart for the temperature data. More details can be found in the [bokeh documentation](https://docs.bokeh.org/en/latest/docs/user_guide/quickstart.html).\n",
    "\n",
    "First load all necessary python modules:"
   ]
  },
  {
   "cell_type": "code",
   "execution_count": null,
   "metadata": {},
   "outputs": [],
   "source": [
    "import pandas as pd\n",
    "\n",
    "from bokeh.plotting import figure, output_notebook, show, output_file, save\n",
    "from bokeh.models import Band, ColumnDataSource, PrintfTickFormatter, DatetimeTickFormatter, Label, LabelSet\n",
    "from bokeh.layouts import column\n",
    "from bokeh.models.tickers import MonthsTicker\n",
    "from bokeh.transform import dodge\n",
    "\n",
    "output_notebook()"
   ]
  },
  {
   "cell_type": "markdown",
   "metadata": {},
   "source": [
    "Load the data given in csv-file format using the pandas library and display the first lines of the data table."
   ]
  },
  {
   "cell_type": "code",
   "execution_count": null,
   "metadata": {},
   "outputs": [],
   "source": [
    "df_kl = pd.read_csv('KLweather2018.csv', parse_dates=['Timestamp'], index_col='Timestamp')\n",
    "df_kl_prec = pd.read_csv('KLweather2018_monthlyPrecipitation.csv', parse_dates=['Timestamp'], index_col='Timestamp')\n",
    "\n",
    "print(df_kl.head())\n",
    "print(df_kl_prec.head())"
   ]
  },
  {
   "cell_type": "markdown",
   "metadata": {},
   "source": [
    "Plot the temperature minimum as a line chart with bokeh using default settings. "
   ]
  },
  {
   "cell_type": "code",
   "execution_count": null,
   "metadata": {},
   "outputs": [],
   "source": [
    "# create a figure\n",
    "p = figure(plot_height=400, x_axis_type=\"datetime\")\n",
    "\n",
    "# define the type of glyph that is rendered and its data. here: a polyline\n",
    "p.line(source=df_kl, x='Timestamp', y='temp_min')\n",
    "\n",
    "# render the chart\n",
    "show(p)"
   ]
  },
  {
   "cell_type": "markdown",
   "metadata": {},
   "source": [
    "## 2. Customizing the temperature chart\n",
    "\n",
    "As detailed above your visualization needs to look similar to the one from the New York Times. This can be achieved by changing the graphical elements and styling visual properties. Update the code below to make the temperature chart more similar:\n",
    "\n",
    "### <font color=deeppink>**Tasks**</font>\n",
    "- Depict the normal high and low temperatures as polylines.\n",
    "- Label the two polylines. You may use the legend functionality.\n",
    "- Depict the daily temperature range as an area.\n",
    "- Label the y-axis.\n",
    "- Style visual attributes (color, line style) to your liking.\n",
    "\n",
    "Helpful ressources:\n",
    "- [Plotting with basic glyphs](https://docs.bokeh.org/en/latest/docs/user_guide/plotting.html) - Overview of glyph types that are implemented in bokeh; see the examples for all the graphical primitives that can be plotted directly.\n",
    "- [Styling visual attributes](https://docs.bokeh.org/en/latest/docs/user_guide/styling.html) - See styling options for chart elements"
   ]
  },
  {
   "cell_type": "code",
   "execution_count": null,
   "metadata": {},
   "outputs": [],
   "source": [
    "def create_temperature_chart(df, width=900):\n",
    "    '''Create a bokeh figure for temperature range and normal values.'''\n",
    "    \n",
    "    # create figure and data source\n",
    "    p = figure(plot_width=width, plot_height=400, title='Kaiserslautern\\'s Weather for 2018', tools=['xwheel_zoom'], \n",
    "           x_axis_type=\"datetime\", x_axis_location=\"above\", y_range=(-15,40), background_fill_color = \"grey\")\n",
    "\n",
    "    source = ColumnDataSource(df)\n",
    "\n",
    "    # add graphical items\n",
    "    p.line(source=source, x='Timestamp', y='temp_max', line_color=\"black\")\n",
    "    p.line(source=source, x='Timestamp', y='temp_min', line_color=\"black\")\n",
    "\n",
    "    # mark min/max temperature\n",
    "    p.varea(source=source, x = \"Timestamp\", y1 = \"temp_max\", y2 = \"temp_min\", color = \"black\")\n",
    "\n",
    "    # lines indicatinf normal low and normal high\n",
    "    p.line(source=source, x='Timestamp', y='temp_normal_max', line_color=\"red\",\\\n",
    "           line_cap = \"round\", line_width = 1.0, legend = \"Normal high\")\n",
    "    p.line(source=source, x='Timestamp', y='temp_normal_min', line_color=\"blue\",\\\n",
    "           line_cap = \"round\", line_width = 1.0, legend = \"Normal low\")\n",
    "\n",
    "    # mark the max and min temperature\n",
    "    tmax_id = df_kl['temp_max'].idxmax()\n",
    "    tmax_id = tmax_id.to_pydatetime()\n",
    "    tmin_id = df_kl['temp_min'].idxmin()\n",
    "    tmin_id = tmin_id.to_pydatetime()\n",
    "\n",
    "    # add citations\n",
    "    temp = [df_kl.at[tmax_id,'temp_max'], df_kl.at[tmin_id,'temp_min']]\n",
    "    t_id = [tmax_id, tmin_id]\n",
    "    source = ColumnDataSource(data = dict(t_id = t_id, temp = temp,\n",
    "                        labels = [\"High, {} : {}\\xb0C\".format(t_id[0].strftime(\"%b %d\"), temp[0]),\\\n",
    "                        \"Low, {} : {}\\xb0C\".format(t_id[1].strftime(\"%b %d\"), temp[1])]))\n",
    "\n",
    "    # plot high and low temperatures.\n",
    "    p.scatter(x='t_id', y='temp', size=8, source=source, color = \"black\")\n",
    "    labels = LabelSet(x='t_id', y='temp', text='labels', level='glyph',\n",
    "              x_offset=5, y_offset=5, source=source, render_mode='canvas', text_color = \"white\",\n",
    "                     border_line_color = \"black\", background_fill_color = \"black\")\n",
    "    p.add_layout(labels)\n",
    "\n",
    "    # style visual attributes\n",
    "    p.xaxis.ticker = MonthsTicker(months=list(range(12))) \n",
    "    p.xgrid.ticker = MonthsTicker(months=list(range(12))) \n",
    "    p.xaxis.formatter=DatetimeTickFormatter(months=[\"               %b\"])\n",
    "    p.xaxis.major_label_text_align = 'right'\n",
    "    p.yaxis[0].formatter = PrintfTickFormatter(format=\"%2i°\")\n",
    "    p.yaxis.axis_label = \"Temperature [°C]\"\n",
    "    p.title.text_font_size = \"15pt\"\n",
    "    p.title.align = \"center\"\n",
    "    p.xgrid.grid_line_color = \"green\"\n",
    "    p.ygrid.grid_line_color = \"green\"\n",
    "\n",
    "    return p\n",
    "\n",
    "p = create_temperature_chart(df_kl)\n",
    "show(p)"
   ]
  },
  {
   "cell_type": "markdown",
   "metadata": {},
   "source": [
    "## 3. Filtering data and making annotations\n",
    "The following piece of code demonstrates how to find maxima in a data column. Use this code to automatically find the highest and lowest temperature values in 2018 and place a mark in the chart above at these positions (e.g. circle the respective data points).\n",
    "\n",
    "### <font color=deeppink>**Tasks**</font>\n",
    "- Automaticall filter the highest and lowest temperatures in Kaiserslautern in 2018.\n",
    "- Integrate the code in the chart computation method above and mark the two detected positions.\n",
    "- Add text labels to the positions. [Label documentation](https://docs.bokeh.org/en/latest/docs/user_guide/annotations.html#labels) for bokeh."
   ]
  },
  {
   "cell_type": "code",
   "execution_count": null,
   "metadata": {},
   "outputs": [],
   "source": [
    "tmax_id = df_kl['temp_max'].idxmax()\n",
    "tmin_id = df_kl['temp_min'].idxmin()\n",
    "print(\"KL temperature maximum:\", tmax_id, df_kl.at[tmax_id,'temp_max'])\n",
    "print(\"KL temperature mininum:\", tmin_id, df_kl.at[tmin_id,'temp_min'])\n",
    "p = create_temperature_chart(df_kl)\n",
    "show(p)"
   ]
  },
  {
   "cell_type": "markdown",
   "metadata": {},
   "source": [
    "## 4. Designing additional charts\n",
    "\n",
    "Now design the charts for precipitation and relative humidity.\n",
    "\n",
    "### <font color=deeppink>**Tasks**</font>\n",
    "- Create the chart for precipitation. Try to design a bar chart using the hints below.\n",
    "- Create the chart for humidity.\n",
    "\n",
    "Hints for temporal x-axis:\n",
    "- **Width of bars**: The width is given milliseconds. In order to get the required scaling, you will need to specify the width like: `widthInDays = ndays*24*60*60*1000` (24 hours * 60 minutes * 60 seconds * 1000 milliseconds)\n",
    "- **Position of bars**: You can shift the bars using the dodge function `x=dodge('prec', value, range=p.x_range)`. Mark that you need to define an appropriate `value` by which to shift the bar."
   ]
  },
  {
   "cell_type": "code",
   "execution_count": null,
   "metadata": {},
   "outputs": [],
   "source": [
    "def create_precipitation_chart(df, width=900):\n",
    "    '''Create a bokeh figure for monthly precipitation (2018 vs normal values).'''\n",
    "    source = ColumnDataSource(df)\n",
    "    p = figure(plot_width=width, plot_height=200, tools=['xwheel_zoom'], x_axis_type=\"datetime\")\n",
    "\n",
    "    #30 days in a month on average\n",
    "    ndays = 10\n",
    "    width = float(ndays*24*60*60*1000)\n",
    "\n",
    "    # plot the bar graph\n",
    "    p.vbar(x=dodge('Timestamp', -width/2, range=p.x_range), top='prec', width=width, source=source,\n",
    "       color=\"black\", legend = \"actual\")\n",
    "    p.vbar(x=dodge('Timestamp', width/2, range=p.x_range), top='prec_normal', width=width, source=source,\n",
    "       hatch_pattern = \"left_diagonal_line\", color = \"white\", line_color = \"black\", legend = \"normal\")\n",
    "\n",
    "    #labels\n",
    "    label = Label(x=350, y=150, x_units='screen', y_units='screen', text_color = \"black\",\n",
    "                 text='Precipitation in inches for 2018', render_mode='css',\n",
    "                 border_line_color='black', border_line_alpha=1.0,\n",
    "                 background_fill_color='white', background_fill_alpha=1.0)\n",
    "    p.add_layout(label)\n",
    "\n",
    "    # styling attributes\n",
    "    p.xaxis.ticker = MonthsTicker(months=list(range(12))) \n",
    "    p.xgrid.ticker = MonthsTicker(months=list(range(12)))\n",
    "    p.xaxis.formatter=DatetimeTickFormatter(months=[\"               %b\"])\n",
    "    p.xgrid.grid_line_color = \"black\"\n",
    "    p.ygrid.grid_line_color = \"black\"\n",
    "    p.legend.location = \"top_center\"\n",
    "    p.legend.orientation = \"horizontal\"\n",
    "\n",
    "    return p\n",
    "\n",
    "show(create_precipitation_chart(df_kl_prec))"
   ]
  },
  {
   "cell_type": "code",
   "execution_count": null,
   "metadata": {},
   "outputs": [],
   "source": [
    "def create_humidity_chart(df, width=900):\n",
    "    '''Create a bokeh figure for relative humidity.'''\n",
    "    source = ColumnDataSource(df)\n",
    "\n",
    "    p = figure(plot_width=width, plot_height=200, tools=['xwheel_zoom'], x_axis_type=\"datetime\")\n",
    "    p.vbar(x=dodge('Timestamp', 0.0, range=p.x_range), top='rel_humidity', width=10.0, source=source,\n",
    "       color=\"grey\")\n",
    "\n",
    "    p.line(source=df_kl, x='Timestamp', y='rel_humidity')\n",
    "\n",
    "    #labels\n",
    "    label = Label(x=350, y=0, x_units='screen', y_units='screen', text_color = \"black\",\n",
    "                 text='Relative humidity', render_mode='css',\n",
    "                 border_line_color='black', border_line_alpha=1.0,\n",
    "                 background_fill_color='white', background_fill_alpha=1.0)\n",
    "    p.add_layout(label)\n",
    "\n",
    "    # styling attributes\n",
    "    p.xaxis.ticker = MonthsTicker(months=list(range(12))) \n",
    "    p.xgrid.ticker = MonthsTicker(months=list(range(12)))\n",
    "    p.xgrid.grid_line_color = \"black\"\n",
    "    p.ygrid.grid_line_color = \"black\"\n",
    "    p.xaxis.formatter=DatetimeTickFormatter(months=[\"               %b\"])\n",
    "    return p\n",
    "\n",
    "show(create_humidity_chart(df_kl))"
   ]
  },
  {
   "cell_type": "markdown",
   "metadata": {},
   "source": [
    "## 5. Combining multiple charts\n",
    "\n",
    "In this last part, we combine the three charts you designed above.\n",
    "\n",
    "### <font color=deeppink>**Tasks**</font>\n",
    "- Create the combined weather chart for Kaiserslautern.\n",
    "- Save a jpg/png-version or screenshot of this chart that can be uploaded in OLAT."
   ]
  },
  {
   "cell_type": "code",
   "execution_count": null,
   "metadata": {},
   "outputs": [],
   "source": [
    "show(column(create_temperature_chart(df_kl), create_precipitation_chart(df_kl_prec),create_humidity_chart(df_kl)))"
   ]
  },
  {
   "cell_type": "code",
   "execution_count": null,
   "metadata": {},
   "outputs": [],
   "source": [
    "output_file(\"plot.html\")\n",
    "save(p)"
   ]
  },
  {
   "cell_type": "code",
   "execution_count": null,
   "metadata": {},
   "outputs": [],
   "source": []
  }
 ],
 "metadata": {
  "kernelspec": {
   "display_name": "Python 3",
   "language": "python",
   "name": "python3"
  },
  "language_info": {
   "codemirror_mode": {
    "name": "ipython",
    "version": 3
   },
   "file_extension": ".py",
   "mimetype": "text/x-python",
   "name": "python",
   "nbconvert_exporter": "python",
   "pygments_lexer": "ipython3",
   "version": "3.7.3"
  }
 },
 "nbformat": 4,
 "nbformat_minor": 2
}
