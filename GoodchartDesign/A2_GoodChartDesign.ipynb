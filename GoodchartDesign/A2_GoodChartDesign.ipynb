{
 "cells": [
  {
   "cell_type": "markdown",
   "metadata": {},
   "source": [
    "**Course**: Data Visualization,   **Name**: Kartik Ramesha Kadur,   **Date**: 04.12.2019\n",
    "\n",
    "**Due date**: 4. December 2019, 23:59"
   ]
  },
  {
   "cell_type": "markdown",
   "metadata": {},
   "source": [
    "# Comments regarding assignments\n",
    "\n",
    "Each assignment consists of **two pieces**:\n",
    "1. A jupyter notebook with practical exercises.\n",
    "2. An OLAT questionaire that contains questions regarding the material of the lecture and the notebook. \n",
    "\n",
    "Modalities for credit points:\n",
    "- To qualify for the exam (Prüfungsvoraussetzung), you have to obtain 80% of points in each assignment.\n",
    "- Points are only given through the questionaire in OLAT. Many questions will be related to material you learned or practiced in the notebook.\n",
    "- While questionaires are open, you can retake them until you have enough credit points to pass.\n",
    "\n",
    "**Submission instructions**:\n",
    "- Finish the practical exercises in the notebook.\n",
    "- Fill in the OLAT questionaire (which includes the submission of an HTML export of the notebook)\n",
    "- No group work allowed! You may discuss strategies and solutions, but every student has to do their own implementation."
   ]
  },
  {
   "cell_type": "markdown",
   "metadata": {},
   "source": [
    "# Assignment 2 - Good Chart Design\n",
    "\n",
    "**Due date**: Wednesday, 4. December 2019, 23:59\n",
    "\n",
    "The **goals** of the second assignment are:\n",
    "- Practice visualization design critiques using a given visualization.\n",
    "- Decompose a given chart into its components and analyze their design.\n",
    "- Practice visual encoding theory by detecting marks and channels.\n",
    "- Design an information rich chart.\n",
    "\n",
    "\n",
    "\n",
    "To achieve these goals, your task is to analyze, critique, and revise a given visualization that depicts the received and handled tickets (technical issues):"
   ]
  },
  {
   "cell_type": "markdown",
   "metadata": {},
   "source": [
    "## 1. Problem Setting and Starter Code\n",
    "\n",
    "**Scenario:** Imagine that you manage an information technology (IT) team. Your team receives tickets, or technical issues, from employees. In the past year, you've had two team members leave and decided at the time not to replace them. You have heard a rumbling of complaints from the remaining employees about having to \"pick up the slack\". You've just been asked about your hiring needs for the coming year and are wondering if you should hire a couple more people. First, you want to understand what impact the departure of individuals over the past year has had on your team's overall productivity. You plot the monthly trend of incoming tickets and those processed over the past calender year. You see that there is some evidence your team's productivity is suffering from being short-staffed and now want to turn the quick-and-dirty visual you created into the basis for your hiring request.\n",
    "\n",
    "Below is the code and chart of the initial ticket visualization. Read through the code and make sure that you understand it. "
   ]
  },
  {
   "cell_type": "code",
   "execution_count": null,
   "metadata": {},
   "outputs": [],
   "source": [
    "import pandas as pd\n",
    "from bokeh.plotting import figure, output_notebook, show, output_file\n",
    "from bokeh.models import ColumnDataSource, LabelSet\n",
    "from bokeh.transform import dodge\n",
    "from bokeh.palettes import brewer\n",
    "\n",
    "output_notebook()"
   ]
  },
  {
   "cell_type": "code",
   "execution_count": null,
   "metadata": {},
   "outputs": [],
   "source": [
    "month = [i for i in range(1,13)]\n",
    "received = [160,184,241,149,180,161,132,202,160,139,149,177]\n",
    "processed = [160,184,237,148,181,150,123,156,126,121,124,140]\n",
    "\n",
    "df = pd.DataFrame({'month': month, \n",
    "                   'received': received, \n",
    "                   'processed': processed})"
   ]
  },
  {
   "cell_type": "code",
   "execution_count": null,
   "metadata": {},
   "outputs": [],
   "source": [
    "p = figure(title=\"TICKET TREND\", plot_height=400)\n",
    "p.vbar(source=df, x=dodge('month', -0.175, range=p.x_range), top='received', width=0.3, \n",
    "       legend_label=\"Ticket Volume Received\")\n",
    "p.vbar(source=df, x=dodge('month',  0.175, range=p.x_range), top='processed', width=0.3, \n",
    "       color=\"deeppink\", legend_label=\"Ticket Volume Processed\")\n",
    "\n",
    "# remove the toolbar\n",
    "p.toolbar.logo = None\n",
    "p.toolbar_location = None\n",
    "\n",
    "show(p)"
   ]
  },
  {
   "cell_type": "markdown",
   "metadata": {},
   "source": [
    "## 2. Analysis of the original chart"
   ]
  },
  {
   "cell_type": "markdown",
   "metadata": {},
   "source": [
    "### Write down the message you want to convey with your chart:\n",
    "\n",
    "I want to show that my team's productivity is suffering because the team is short staffed."
   ]
  },
  {
   "cell_type": "markdown",
   "metadata": {},
   "source": [
    "### Design critique\n",
    "\n",
    "Answer the following questions:\n",
    "- How good does the current design support the message your trying to make?\n",
    "- Can you spot problems with the current design?"
   ]
  },
  {
   "cell_type": "markdown",
   "metadata": {},
   "source": [
    "### Analyze the chart design\n",
    "\n",
    "Now go through each of the elements of the chart and check if the design is suitable. Make a list of all visible elements of the chart and problems with the design.\n",
    "\n",
    "- X-axis : Months\n",
    "- Y-axis : Ticket volume\n",
    "- Ticket volume received.\n",
    "- Ticket volume processed."
   ]
  },
  {
   "cell_type": "markdown",
   "metadata": {},
   "source": [
    "## 3. Improved design of helper elements"
   ]
  },
  {
   "cell_type": "markdown",
   "metadata": {},
   "source": [
    "A major problem of the current chart is that it is too cluttered and full of competing information. Improve all chart elements (list above) except for the data representation (bar elements) to achieve a better \"background\" design."
   ]
  },
  {
   "cell_type": "code",
   "execution_count": null,
   "metadata": {},
   "outputs": [],
   "source": [
    "p = figure(title=\"TICKET TREND\", plot_height=400, plot_width=1000)\n",
    "p.vbar(source=df, x=dodge('month', -0.175, range=p.x_range), top='received', width=0.3, \n",
    "       color=\"orange\", legend_label=\"Ticket Volume Received\")\n",
    "p.vbar(source=df, x=dodge('month',  0.175, range=p.x_range), top='processed', width=0.3, \n",
    "       color=\"#B3DE69\", legend_label=\"Ticket Volume Processed\")\n",
    "\n",
    "p.ygrid.grid_line_color = 'black'\n",
    "p.xgrid.grid_line_color = 'grey'\n",
    "p.y_range.start = 100\n",
    "p.y_range.end = 250\n",
    "p.x_range.start = 0.5\n",
    "p.x_range.end = 12.5\n",
    "p.legend.location = \"top_right\"\n",
    "\n",
    "show(p)"
   ]
  },
  {
   "cell_type": "markdown",
   "metadata": {},
   "source": [
    "## 4. Data Encoding"
   ]
  },
  {
   "cell_type": "markdown",
   "metadata": {},
   "source": [
    "### Marks and channels\n",
    "\n",
    "What are the marks and channels used to encode data? Write down the information as discussed in the lecture.\n",
    "\n",
    "Marks describe the shape/geometry of the encoding.\n",
    "- Points\n",
    "- Lines\n",
    "- Area\n",
    "- Volume\n",
    "\n",
    "Channels describe the style of the mark.\n",
    "- Position\n",
    "- Shape\n",
    "- Size\n",
    "- Color\n",
    "- Orientation"
   ]
  },
  {
   "cell_type": "markdown",
   "metadata": {},
   "source": [
    "### Creating new columns\n",
    "\n",
    "The current dataframe only contains the raw data. Often you need to process the data further to obtain suitable input for your data. Read the [ten minutes to pandas](https://pandas.pydata.org/pandas-docs/stable/getting_started/10min.html) introduction to pandas programming.\n",
    "\n",
    "Now you are able to do the following dataframe operations:"
   ]
  },
  {
   "cell_type": "code",
   "execution_count": null,
   "metadata": {},
   "outputs": [],
   "source": [
    "import numpy as np\n",
    "\n",
    "a = [int(i*10) for i in np.random.random(6)]\n",
    "b = [int(i*10) for i in np.random.random(6)]\n",
    "\n",
    "df_test = pd.DataFrame({\"A\": a, \"B\": b})\n",
    "\n",
    "# select a column\n",
    "df_test['A']\n",
    "\n",
    "# create a new column by adding two column\n",
    "df_test['A+B'] = df_test['A'] + df_test['B']\n",
    "\n",
    "# create a new column by applying a function to an existing column\n",
    "df_test['A+1'] = df_test['A'].apply(lambda x: x+1)\n",
    "df_test['Size(A)'] = df_test['A'].apply(lambda x: \"S\" if x < 5 else \"M\")\n",
    "\n",
    "df_test"
   ]
  },
  {
   "cell_type": "markdown",
   "metadata": {},
   "source": [
    "Use these dataframe operations to create the following columns in the ticket dataframe:\n",
    "- the difference between received and processed tickets\n",
    "- the total number of open tickets, i.e., the sum of all tickets that have not been handled yet. See method `cumsum()` for a pandas Series."
   ]
  },
  {
   "cell_type": "code",
   "execution_count": null,
   "metadata": {},
   "outputs": [],
   "source": [
    "unprocessed = []\n",
    "for i in range(0,12):\n",
    "    unprocessed.append(received[i] - processed [i])\n",
    "print(\"Unprocessed tickets in each month: \\n{}\".format(unprocessed))\n",
    "\n",
    "df1 = pd.DataFrame({'month': month, \n",
    "                   'received': received, \n",
    "                   'processed': processed,\n",
    "                   'unprocessed': unprocessed,\n",
    "                   })\n",
    "\n",
    "open_tickets = df1['unprocessed'].cumsum()\n",
    "print(\"Open Tickets :\\n{}\".format(open_tickets))"
   ]
  },
  {
   "cell_type": "markdown",
   "metadata": {},
   "source": [
    "### Alternative data encodings\n",
    "\n",
    "Now change the presentation of the data. Select two new, suitable chart types for the ticket data. Stick to chart types that use the same x- and y-axis as defined above. Implement (at least) two different data encodings. What is your favorite?"
   ]
  },
  {
   "cell_type": "code",
   "execution_count": null,
   "metadata": {},
   "outputs": [],
   "source": [
    "fig1 = figure(title = 'Productivity', plot_width=1000, plot_height=400)\n",
    "names = ['processed','unprocessed']\n",
    "fig1.varea_stack(['processed', 'unprocessed'], x='month', color=(\"#B3DE69\", \"red\"), legend_label = names, source=df1)\n",
    "fig1.legend.items.reverse()\n",
    "fig1.ygrid.grid_line_color = 'black'\n",
    "fig1.xgrid.grid_line_color = 'grey'\n",
    "fig1.xaxis[0].axis_label = 'Months'\n",
    "fig1.yaxis[0].axis_label = 'Number of Tickets'\n",
    "show(fig1)\n",
    "\n",
    "df2 = pd.DataFrame({'month': month, \n",
    "                   'open': open_tickets\n",
    "                   })\n",
    "fig2 = figure(title=\"Open Tickets\", plot_width=1000, plot_height=300)\n",
    "fig2.line(x='month', y='open', source = df2, color = \"red\", legend_label = \"Number of unprocesed tickets\")\n",
    "fig2.ygrid.grid_line_color = 'black'\n",
    "fig2.xgrid.grid_line_color = 'grey'\n",
    "fig2.legend.location = \"top_center\"\n",
    "fig2.xaxis[0].axis_label = 'Months'\n",
    "fig2.yaxis[0].axis_label = 'Unprocessed Tickets'\n",
    "show(fig2)"
   ]
  },
  {
   "cell_type": "markdown",
   "metadata": {},
   "source": [
    "## 4. Revise the chart\n",
    "\n",
    "Now combine the results from the previous steps and create a final chart that you would send to your boss to ask for additional staff. Also think about adding additional information to your chart with labels etc."
   ]
  },
  {
   "cell_type": "code",
   "execution_count": null,
   "metadata": {},
   "outputs": [],
   "source": [
    "fig1 = figure(title = 'Productivity', plot_width=1000, plot_height=400)\n",
    "names = ['processed','unprocessed']\n",
    "fig1.varea_stack(['processed', 'unprocessed'], x='month', color=(\"#B3DE69\", \"red\"), legend_label = names, source=df1)\n",
    "fig1.legend.items.reverse()\n",
    "fig1.ygrid.grid_line_color = 'black'\n",
    "fig1.xgrid.grid_line_color = 'grey'\n",
    "fig1.xaxis[0].axis_label = 'Months'\n",
    "fig1.yaxis[0].axis_label = 'Number of Tickets'\n",
    "show(fig1)\n",
    "\n",
    "df2 = pd.DataFrame({'month': month, \n",
    "                   'open': open_tickets\n",
    "                   })\n",
    "x = df2[\"month\"]\n",
    "y1 = [0 for i in range(0, len(x))]\n",
    "y2 = df2[\"open\"]\n",
    "fig2 = figure(title=\"Open Tickets\", plot_width=1000, plot_height=300)\n",
    "\n",
    "fig2.line(x='month', y='open', source = df2, color = \"red\", line_width = 3.0, legend_label = \"Number of Unprocesed tickets\")\n",
    "fig2.varea(x, y1, y2, color = \"#FB8072\")\n",
    "fig2.circle(x = 'month', y = 'open', source = df2, fill_color=\"red\", line_color=\"red\")\n",
    "fig2.ygrid.grid_line_color = 'black'\n",
    "fig2.xgrid.grid_line_color = 'grey'\n",
    "fig2.legend.location = \"top_center\"\n",
    "fig2.xaxis[0].axis_label = 'Months'\n",
    "fig2.yaxis[0].axis_label = 'Unprocessed Tickets'\n",
    "show(fig2)"
   ]
  },
  {
   "cell_type": "markdown",
   "metadata": {},
   "source": [
    "**Caption**: Loss in Team Productivity"
   ]
  },
  {
   "cell_type": "markdown",
   "metadata": {},
   "source": [
    "### Write a figure caption\n",
    "\n",
    "As we learned: Each figure needs a caption. Write a caption for your figure. Position it underneath your chart so you can take a screenshot of chart + caption."
   ]
  }
 ],
 "metadata": {
  "kernelspec": {
   "display_name": "Python 3",
   "language": "python",
   "name": "python3"
  },
  "language_info": {
   "codemirror_mode": {
    "name": "ipython",
    "version": 3
   },
   "file_extension": ".py",
   "mimetype": "text/x-python",
   "name": "python",
   "nbconvert_exporter": "python",
   "pygments_lexer": "ipython3",
   "version": "3.7.3"
  }
 },
 "nbformat": 4,
 "nbformat_minor": 2
}
